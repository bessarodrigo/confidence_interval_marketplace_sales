{
 "cells": [
  {
   "cell_type": "markdown",
   "id": "ca53a1fd",
   "metadata": {},
   "source": [
    "# Importação das Bibliotecas"
   ]
  },
  {
   "cell_type": "code",
   "execution_count": 1,
   "id": "daa60767",
   "metadata": {},
   "outputs": [],
   "source": [
    "import numpy as np\n",
    "import pandas as pd\n",
    "import scipy.stats as stats\n",
    "from scipy import stats"
   ]
  },
  {
   "cell_type": "markdown",
   "id": "451d0f9c",
   "metadata": {},
   "source": [
    "# Leitura e Análise da Base"
   ]
  },
  {
   "cell_type": "code",
   "execution_count": 2,
   "id": "50cc1421",
   "metadata": {},
   "outputs": [
    {
     "data": {
      "text/html": [
       "<div>\n",
       "<style scoped>\n",
       "    .dataframe tbody tr th:only-of-type {\n",
       "        vertical-align: middle;\n",
       "    }\n",
       "\n",
       "    .dataframe tbody tr th {\n",
       "        vertical-align: top;\n",
       "    }\n",
       "\n",
       "    .dataframe thead th {\n",
       "        text-align: right;\n",
       "    }\n",
       "</style>\n",
       "<table border=\"1\" class=\"dataframe\">\n",
       "  <thead>\n",
       "    <tr style=\"text-align: right;\">\n",
       "      <th></th>\n",
       "      <th>order_id</th>\n",
       "      <th>order_item_id</th>\n",
       "      <th>product_id</th>\n",
       "      <th>seller_id</th>\n",
       "      <th>shipping_limit_date</th>\n",
       "      <th>price</th>\n",
       "      <th>freight_value</th>\n",
       "    </tr>\n",
       "  </thead>\n",
       "  <tbody>\n",
       "    <tr>\n",
       "      <th>0</th>\n",
       "      <td>00010242fe8c5a6d1ba2dd792cb16214</td>\n",
       "      <td>1</td>\n",
       "      <td>4244733e06e7ecb4970a6e2683c13e61</td>\n",
       "      <td>48436dade18ac8b2bce089ec2a041202</td>\n",
       "      <td>9/19/17 9:45</td>\n",
       "      <td>58.90</td>\n",
       "      <td>13.29</td>\n",
       "    </tr>\n",
       "    <tr>\n",
       "      <th>1</th>\n",
       "      <td>00018f77f2f0320c557190d7a144bdd3</td>\n",
       "      <td>1</td>\n",
       "      <td>e5f2d52b802189ee658865ca93d83a8f</td>\n",
       "      <td>dd7ddc04e1b6c2c614352b383efe2d36</td>\n",
       "      <td>2017-03-05 11:05:00</td>\n",
       "      <td>239.90</td>\n",
       "      <td>19.93</td>\n",
       "    </tr>\n",
       "    <tr>\n",
       "      <th>2</th>\n",
       "      <td>000229ec398224ef6ca0657da4fc703e</td>\n",
       "      <td>1</td>\n",
       "      <td>c777355d18b72b67abbeef9df44fd0fd</td>\n",
       "      <td>5b51032eddd242adc84c38acab88f23d</td>\n",
       "      <td>1/18/18 14:48</td>\n",
       "      <td>199.00</td>\n",
       "      <td>17.87</td>\n",
       "    </tr>\n",
       "    <tr>\n",
       "      <th>3</th>\n",
       "      <td>00024acbcdf0a6daa1e931b038114c75</td>\n",
       "      <td>1</td>\n",
       "      <td>7634da152a4610f1595efa32f14722fc</td>\n",
       "      <td>9d7a1d34a5052409006425275ba1c2b4</td>\n",
       "      <td>8/15/18 10:10</td>\n",
       "      <td>12.99</td>\n",
       "      <td>12.79</td>\n",
       "    </tr>\n",
       "    <tr>\n",
       "      <th>4</th>\n",
       "      <td>00042b26cf59d7ce69dfabb4e55b4fd9</td>\n",
       "      <td>1</td>\n",
       "      <td>ac6c3623068f30de03045865e4e10089</td>\n",
       "      <td>df560393f3a51e74553ab94004ba5c87</td>\n",
       "      <td>2/13/17 13:57</td>\n",
       "      <td>199.90</td>\n",
       "      <td>18.14</td>\n",
       "    </tr>\n",
       "  </tbody>\n",
       "</table>\n",
       "</div>"
      ],
      "text/plain": [
       "                           order_id  order_item_id  \\\n",
       "0  00010242fe8c5a6d1ba2dd792cb16214              1   \n",
       "1  00018f77f2f0320c557190d7a144bdd3              1   \n",
       "2  000229ec398224ef6ca0657da4fc703e              1   \n",
       "3  00024acbcdf0a6daa1e931b038114c75              1   \n",
       "4  00042b26cf59d7ce69dfabb4e55b4fd9              1   \n",
       "\n",
       "                         product_id                         seller_id  \\\n",
       "0  4244733e06e7ecb4970a6e2683c13e61  48436dade18ac8b2bce089ec2a041202   \n",
       "1  e5f2d52b802189ee658865ca93d83a8f  dd7ddc04e1b6c2c614352b383efe2d36   \n",
       "2  c777355d18b72b67abbeef9df44fd0fd  5b51032eddd242adc84c38acab88f23d   \n",
       "3  7634da152a4610f1595efa32f14722fc  9d7a1d34a5052409006425275ba1c2b4   \n",
       "4  ac6c3623068f30de03045865e4e10089  df560393f3a51e74553ab94004ba5c87   \n",
       "\n",
       "   shipping_limit_date   price  freight_value  \n",
       "0         9/19/17 9:45   58.90          13.29  \n",
       "1  2017-03-05 11:05:00  239.90          19.93  \n",
       "2        1/18/18 14:48  199.00          17.87  \n",
       "3        8/15/18 10:10   12.99          12.79  \n",
       "4        2/13/17 13:57  199.90          18.14  "
      ]
     },
     "execution_count": 2,
     "metadata": {},
     "output_type": "execute_result"
    }
   ],
   "source": [
    "# Leitura da planilha \n",
    "DADOS = r\"C:\\Users\\rodri\\OneDrive\\Sincronização\\Documentos\\GitHub\\confidence_interval_marketplace_sales\\data\\olist_order_items_dataset.xlsx\"\n",
    "df = pd.read_excel(DADOS)\n",
    "\n",
    "# Visualizar as primeiras linhas da tabela\n",
    "df.head()"
   ]
  },
  {
   "cell_type": "code",
   "execution_count": 3,
   "id": "850ae6b4",
   "metadata": {},
   "outputs": [
    {
     "data": {
      "text/html": [
       "<div>\n",
       "<style scoped>\n",
       "    .dataframe tbody tr th:only-of-type {\n",
       "        vertical-align: middle;\n",
       "    }\n",
       "\n",
       "    .dataframe tbody tr th {\n",
       "        vertical-align: top;\n",
       "    }\n",
       "\n",
       "    .dataframe thead th {\n",
       "        text-align: right;\n",
       "    }\n",
       "</style>\n",
       "<table border=\"1\" class=\"dataframe\">\n",
       "  <thead>\n",
       "    <tr style=\"text-align: right;\">\n",
       "      <th></th>\n",
       "      <th>order_id</th>\n",
       "      <th>order_item_id</th>\n",
       "      <th>product_id</th>\n",
       "      <th>seller_id</th>\n",
       "      <th>shipping_limit_date</th>\n",
       "      <th>price</th>\n",
       "      <th>freight_value</th>\n",
       "    </tr>\n",
       "  </thead>\n",
       "  <tbody>\n",
       "    <tr>\n",
       "      <th>112645</th>\n",
       "      <td>fffc94f6ce00a00581880bf54a75a037</td>\n",
       "      <td>1</td>\n",
       "      <td>4aa6014eceb682077f9dc4bffebc05b0</td>\n",
       "      <td>b8bc237ba3788b23da09c0f1f3a3288c</td>\n",
       "      <td>2018-02-05 04:11:00</td>\n",
       "      <td>299.99</td>\n",
       "      <td>43.41</td>\n",
       "    </tr>\n",
       "    <tr>\n",
       "      <th>112646</th>\n",
       "      <td>fffcd46ef2263f404302a634eb57f7eb</td>\n",
       "      <td>1</td>\n",
       "      <td>32e07fd915822b0765e448c4dd74c828</td>\n",
       "      <td>f3c38ab652836d21de61fb8314b69182</td>\n",
       "      <td>7/20/18 4:31</td>\n",
       "      <td>350.00</td>\n",
       "      <td>36.53</td>\n",
       "    </tr>\n",
       "    <tr>\n",
       "      <th>112647</th>\n",
       "      <td>fffce4705a9662cd70adb13d4a31832d</td>\n",
       "      <td>1</td>\n",
       "      <td>72a30483855e2eafc67aee5dc2560482</td>\n",
       "      <td>c3cfdc648177fdbbbb35635a37472c53</td>\n",
       "      <td>10/30/17 17:14</td>\n",
       "      <td>99.90</td>\n",
       "      <td>16.95</td>\n",
       "    </tr>\n",
       "    <tr>\n",
       "      <th>112648</th>\n",
       "      <td>fffe18544ffabc95dfada21779c9644f</td>\n",
       "      <td>1</td>\n",
       "      <td>9c422a519119dcad7575db5af1ba540e</td>\n",
       "      <td>2b3e4a2a3ea8e01938cabda2a3e5cc79</td>\n",
       "      <td>8/21/17 0:04</td>\n",
       "      <td>55.99</td>\n",
       "      <td>8.72</td>\n",
       "    </tr>\n",
       "    <tr>\n",
       "      <th>112649</th>\n",
       "      <td>fffe41c64501cc87c801fd61db3f6244</td>\n",
       "      <td>1</td>\n",
       "      <td>350688d9dc1e75ff97be326363655e01</td>\n",
       "      <td>f7ccf836d21b2fb1de37564105216cc1</td>\n",
       "      <td>2018-12-06 17:10:00</td>\n",
       "      <td>43.00</td>\n",
       "      <td>12.79</td>\n",
       "    </tr>\n",
       "  </tbody>\n",
       "</table>\n",
       "</div>"
      ],
      "text/plain": [
       "                                order_id  order_item_id  \\\n",
       "112645  fffc94f6ce00a00581880bf54a75a037              1   \n",
       "112646  fffcd46ef2263f404302a634eb57f7eb              1   \n",
       "112647  fffce4705a9662cd70adb13d4a31832d              1   \n",
       "112648  fffe18544ffabc95dfada21779c9644f              1   \n",
       "112649  fffe41c64501cc87c801fd61db3f6244              1   \n",
       "\n",
       "                              product_id                         seller_id  \\\n",
       "112645  4aa6014eceb682077f9dc4bffebc05b0  b8bc237ba3788b23da09c0f1f3a3288c   \n",
       "112646  32e07fd915822b0765e448c4dd74c828  f3c38ab652836d21de61fb8314b69182   \n",
       "112647  72a30483855e2eafc67aee5dc2560482  c3cfdc648177fdbbbb35635a37472c53   \n",
       "112648  9c422a519119dcad7575db5af1ba540e  2b3e4a2a3ea8e01938cabda2a3e5cc79   \n",
       "112649  350688d9dc1e75ff97be326363655e01  f7ccf836d21b2fb1de37564105216cc1   \n",
       "\n",
       "        shipping_limit_date   price  freight_value  \n",
       "112645  2018-02-05 04:11:00  299.99          43.41  \n",
       "112646         7/20/18 4:31  350.00          36.53  \n",
       "112647       10/30/17 17:14   99.90          16.95  \n",
       "112648         8/21/17 0:04   55.99           8.72  \n",
       "112649  2018-12-06 17:10:00   43.00          12.79  "
      ]
     },
     "execution_count": 3,
     "metadata": {},
     "output_type": "execute_result"
    }
   ],
   "source": [
    "# Visualizar as últimas linhas da tabela\n",
    "df.tail()"
   ]
  },
  {
   "cell_type": "code",
   "execution_count": 4,
   "id": "69dc40f6",
   "metadata": {},
   "outputs": [
    {
     "name": "stdout",
     "output_type": "stream",
     "text": [
      "<class 'pandas.core.frame.DataFrame'>\n",
      "RangeIndex: 112650 entries, 0 to 112649\n",
      "Data columns (total 7 columns):\n",
      " #   Column               Non-Null Count   Dtype  \n",
      "---  ------               --------------   -----  \n",
      " 0   order_id             112650 non-null  object \n",
      " 1   order_item_id        112650 non-null  int64  \n",
      " 2   product_id           112650 non-null  object \n",
      " 3   seller_id            112650 non-null  object \n",
      " 4   shipping_limit_date  112650 non-null  object \n",
      " 5   price                112650 non-null  float64\n",
      " 6   freight_value        112650 non-null  float64\n",
      "dtypes: float64(2), int64(1), object(4)\n",
      "memory usage: 6.0+ MB\n"
     ]
    }
   ],
   "source": [
    "# Conferir os tipos de dados\n",
    "df.info()"
   ]
  },
  {
   "cell_type": "markdown",
   "id": "74264e14",
   "metadata": {},
   "source": [
    "# Problema de Negócio"
   ]
  },
  {
   "cell_type": "markdown",
   "id": "69869776",
   "metadata": {},
   "source": [
    "sdsdsdsdsds\n"
   ]
  },
  {
   "cell_type": "code",
   "execution_count": 10,
   "id": "bc93ac0d",
   "metadata": {},
   "outputs": [
    {
     "name": "stdout",
     "output_type": "stream",
     "text": [
      "Preço Médio: 120.65\n",
      "Frete Médio: 19.99\n"
     ]
    }
   ],
   "source": [
    "# Definição da variáveis das amostras\n",
    "amostra_price = df[\"price\"].to_numpy()\n",
    "amostra_freight = df[\"freight_value\"].to_numpy()\n",
    "\n",
    "# Definição das médias\n",
    "media_price = amostra_price.mean()\n",
    "media_freight = amostra_freight.mean()\n",
    "\n",
    "# Definição do tamanho da amostra\n",
    "n_price = len(amostra_price)\n",
    "n_freight = len(amostra_freight)\n",
    "\n",
    "# Cálculo do erro padrão\n",
    "erro_padrao_price = amostra_price.std(ddof=1) / np.sqrt(n_price)\n",
    "erro_padrao_freight = amostra_freight.std(ddof=1) / np.sqrt(n_freight)\n",
    "\n",
    "# Exibir os resultados\n",
    "print(f\"Preço Médio: {media_price:.2f}\")\n",
    "print(f\"Frete Médio: {media_freight:.2f}\")"
   ]
  },
  {
   "cell_type": "code",
   "execution_count": 8,
   "id": "8a2a44b9",
   "metadata": {},
   "outputs": [],
   "source": [
    "# Nível de confiança de 95%\n",
    "conf_95 = 0.95"
   ]
  },
  {
   "cell_type": "code",
   "execution_count": 12,
   "id": "a05b2def",
   "metadata": {},
   "outputs": [
    {
     "name": "stdout",
     "output_type": "stream",
     "text": [
      "Preço Médio: 120.65\n",
      "Intervalo de Confiança de 95% para o Preço: (119.58, 121.73)\n",
      "\n",
      "Frete Médio: 19.99\n",
      "Intervalo de Confiança de 95% para o Frete: (19.90, 20.08)\n"
     ]
    }
   ],
   "source": [
    "# Função para calcular intervalo de confiança\n",
    "def intervalo_confianca(conf, media, erro_padrao, n):\n",
    "    t_critico = abs(stats.t.ppf((1 - conf) / 2, df=n-1))\n",
    "    limite_inferior = media - t_critico * erro_padrao\n",
    "    limite_superior = media + t_critico * erro_padrao\n",
    "    return t_critico, limite_inferior, limite_superior\n",
    "\n",
    "# Cálculo dos intervalos de confiança para preço e frete\n",
    "t_critico_price, limite_inferior_price, limite_superior_price = intervalo_confianca(conf_95, media_price, erro_padrao_price, n_price)\n",
    "t_critico_freight, limite_inferior_freight, limite_superior_freight = intervalo_confianca(conf_95, media_freight, erro_padrao_freight, n_freight)\n",
    "\n",
    "# Exibir resultados\n",
    "print(f\"Preço Médio: {media_price:.2f}\")\n",
    "print(f\"Intervalo de Confiança de 95% para o Preço: ({limite_inferior_price:.2f}, {limite_superior_price:.2f})\")\n",
    "\n",
    "print(f\"\\nFrete Médio: {media_freight:.2f}\")\n",
    "print(f\"Intervalo de Confiança de 95% para o Frete: ({limite_inferior_freight:.2f}, {limite_superior_freight:.2f})\")"
   ]
  },
  {
   "cell_type": "code",
   "execution_count": 17,
   "id": "0a706fb3",
   "metadata": {},
   "outputs": [],
   "source": [
    "# Cálculo das estatísticas básicas\n",
    "n_price = len(amostra_price)  # Tamanho da amostra\n",
    "n_freight = len(amostra_freight)\n",
    "\n",
    "media_price = np.mean(amostra_price)  # Média amostral\n",
    "media_freight = np.mean(amostra_freight)\n",
    "\n",
    "variancia_price = np.var(amostra_price, ddof=1)  # Variância amostral\n",
    "variancia_freight = np.var(amostra_freight, ddof=1)\n",
    "\n",
    "t_critico_price = stats.t.ppf(0.975, df=n_price - 1)  # t crítico para 95% de confiança\n",
    "t_critico_freight = stats.t.ppf(0.975, df=n_freight - 1)\n",
    "\n",
    "# Criar DataFrame das estatísticas\n",
    "df_estatisticas = pd.DataFrame({\n",
    "    \"Variável\": [\"Preço\", \"Frete\"],\n",
    "    \"n\": [n_price, n_freight],\n",
    "    \"Média\": [media_price, media_freight],\n",
    "    \"Variância Amostral\": [variancia_price, variancia_freight],\n",
    "    \"t_critico\": [t_critico_price, t_critico_freight]\n",
    "})\n",
    "\n",
    "# Cálculo dos intervalos de confiança\n",
    "desvio_padrao_price = np.sqrt(variancia_price)\n",
    "desvio_padrao_freight = np.sqrt(variancia_freight)\n",
    "\n",
    "erro_padrao_price = desvio_padrao_price / np.sqrt(n_price)\n",
    "erro_padrao_freight = desvio_padrao_freight / np.sqrt(n_freight)\n",
    "\n",
    "limite_inferior_price = media_price - t_critico_price * erro_padrao_price\n",
    "limite_superior_price = media_price + t_critico_price * erro_padrao_price\n",
    "\n",
    "limite_inferior_freight = media_freight - t_critico_freight * erro_padrao_freight\n",
    "limite_superior_freight = media_freight + t_critico_freight * erro_padrao_freight\n",
    "\n",
    "# Criar DataFrame dos intervalos de confiança\n",
    "df_intervalos = pd.DataFrame({\n",
    "    \"Variável\": [\"Preço\", \"Frete\"],\n",
    "    \"Limite Inferior\": [limite_inferior_price, limite_inferior_freight],\n",
    "    \"Limite Superior\": [limite_superior_price, limite_superior_freight]\n",
    "})"
   ]
  },
  {
   "cell_type": "code",
   "execution_count": 25,
   "id": "ba3f4f36",
   "metadata": {},
   "outputs": [
    {
     "name": "stdout",
     "output_type": "stream",
     "text": [
      "Estatísticas Amostrais:\n",
      "Variável      n  Média Variância Amostral t_critico\n",
      "   Preço 112650 120.65           33721.42      1.96\n",
      "   Frete 112650  19.99             249.84      1.96\n",
      "\n",
      "========================================\n",
      "\n",
      "Intervalos de Confiança:\n",
      "Variável Limite Inferior Limite Superior\n",
      "   Preço          119.58          121.73\n",
      "   Frete           19.90           20.08\n"
     ]
    }
   ],
   "source": [
    "# Exibir os DataFrames formatados\n",
    "print(\"Estatísticas Amostrais:\")\n",
    "print(df_estatisticas.to_string(index=False, formatters={\n",
    "    \"Média\": lambda x: f\"{x:.2f}\",\n",
    "    \"Variância Amostral\": lambda x: f\"{x:.2f}\",\n",
    "    \"t_critico\": lambda x: f\"{x:.2f}\"\n",
    "}))\n",
    "\n",
    "print(\"\")\n",
    "print(\"=\"*40)\n",
    "print(\"\")\n",
    "\n",
    "print(\"Intervalos de Confiança:\")\n",
    "print(df_intervalos.to_string(index=False, formatters={\n",
    "    \"Limite Inferior\": lambda x: f\"{x:.2f}\",\n",
    "    \"Limite Superior\": lambda x: f\"{x:.2f}\"\n",
    "}))"
   ]
  }
 ],
 "metadata": {
  "kernelspec": {
   "display_name": "Python (venv)",
   "language": "python",
   "name": "venv"
  },
  "language_info": {
   "codemirror_mode": {
    "name": "ipython",
    "version": 3
   },
   "file_extension": ".py",
   "mimetype": "text/x-python",
   "name": "python",
   "nbconvert_exporter": "python",
   "pygments_lexer": "ipython3",
   "version": "3.13.0"
  }
 },
 "nbformat": 4,
 "nbformat_minor": 5
}
