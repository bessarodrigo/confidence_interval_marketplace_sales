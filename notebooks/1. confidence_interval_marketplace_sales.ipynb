{
 "cells": [
  {
   "cell_type": "markdown",
   "id": "ca53a1fd",
   "metadata": {},
   "source": [
    "# Importação das Bibliotecas"
   ]
  },
  {
   "cell_type": "code",
   "execution_count": 69,
   "id": "daa60767",
   "metadata": {},
   "outputs": [],
   "source": [
    "import numpy as np\n",
    "import pandas as pd\n",
    "import scipy.stats as stats\n",
    "from scipy import stats\n",
    "from scipy.stats import norm\n",
    "import locale\n",
    "import seaborn as sns\n",
    "import matplotlib.pyplot as plt"
   ]
  },
  {
   "cell_type": "markdown",
   "id": "451d0f9c",
   "metadata": {},
   "source": [
    "# Leitura e Análise da Base"
   ]
  },
  {
   "cell_type": "code",
   "execution_count": 2,
   "id": "50cc1421",
   "metadata": {},
   "outputs": [
    {
     "data": {
      "text/html": [
       "<div>\n",
       "<style scoped>\n",
       "    .dataframe tbody tr th:only-of-type {\n",
       "        vertical-align: middle;\n",
       "    }\n",
       "\n",
       "    .dataframe tbody tr th {\n",
       "        vertical-align: top;\n",
       "    }\n",
       "\n",
       "    .dataframe thead th {\n",
       "        text-align: right;\n",
       "    }\n",
       "</style>\n",
       "<table border=\"1\" class=\"dataframe\">\n",
       "  <thead>\n",
       "    <tr style=\"text-align: right;\">\n",
       "      <th></th>\n",
       "      <th>order_id</th>\n",
       "      <th>order_item_id</th>\n",
       "      <th>product_id</th>\n",
       "      <th>seller_id</th>\n",
       "      <th>shipping_limit_date</th>\n",
       "      <th>price</th>\n",
       "      <th>freight_value</th>\n",
       "    </tr>\n",
       "  </thead>\n",
       "  <tbody>\n",
       "    <tr>\n",
       "      <th>0</th>\n",
       "      <td>00010242fe8c5a6d1ba2dd792cb16214</td>\n",
       "      <td>1</td>\n",
       "      <td>4244733e06e7ecb4970a6e2683c13e61</td>\n",
       "      <td>48436dade18ac8b2bce089ec2a041202</td>\n",
       "      <td>9/19/17 9:45</td>\n",
       "      <td>58.90</td>\n",
       "      <td>13.29</td>\n",
       "    </tr>\n",
       "    <tr>\n",
       "      <th>1</th>\n",
       "      <td>00018f77f2f0320c557190d7a144bdd3</td>\n",
       "      <td>1</td>\n",
       "      <td>e5f2d52b802189ee658865ca93d83a8f</td>\n",
       "      <td>dd7ddc04e1b6c2c614352b383efe2d36</td>\n",
       "      <td>2017-03-05 11:05:00</td>\n",
       "      <td>239.90</td>\n",
       "      <td>19.93</td>\n",
       "    </tr>\n",
       "    <tr>\n",
       "      <th>2</th>\n",
       "      <td>000229ec398224ef6ca0657da4fc703e</td>\n",
       "      <td>1</td>\n",
       "      <td>c777355d18b72b67abbeef9df44fd0fd</td>\n",
       "      <td>5b51032eddd242adc84c38acab88f23d</td>\n",
       "      <td>1/18/18 14:48</td>\n",
       "      <td>199.00</td>\n",
       "      <td>17.87</td>\n",
       "    </tr>\n",
       "    <tr>\n",
       "      <th>3</th>\n",
       "      <td>00024acbcdf0a6daa1e931b038114c75</td>\n",
       "      <td>1</td>\n",
       "      <td>7634da152a4610f1595efa32f14722fc</td>\n",
       "      <td>9d7a1d34a5052409006425275ba1c2b4</td>\n",
       "      <td>8/15/18 10:10</td>\n",
       "      <td>12.99</td>\n",
       "      <td>12.79</td>\n",
       "    </tr>\n",
       "    <tr>\n",
       "      <th>4</th>\n",
       "      <td>00042b26cf59d7ce69dfabb4e55b4fd9</td>\n",
       "      <td>1</td>\n",
       "      <td>ac6c3623068f30de03045865e4e10089</td>\n",
       "      <td>df560393f3a51e74553ab94004ba5c87</td>\n",
       "      <td>2/13/17 13:57</td>\n",
       "      <td>199.90</td>\n",
       "      <td>18.14</td>\n",
       "    </tr>\n",
       "  </tbody>\n",
       "</table>\n",
       "</div>"
      ],
      "text/plain": [
       "                           order_id  order_item_id  \\\n",
       "0  00010242fe8c5a6d1ba2dd792cb16214              1   \n",
       "1  00018f77f2f0320c557190d7a144bdd3              1   \n",
       "2  000229ec398224ef6ca0657da4fc703e              1   \n",
       "3  00024acbcdf0a6daa1e931b038114c75              1   \n",
       "4  00042b26cf59d7ce69dfabb4e55b4fd9              1   \n",
       "\n",
       "                         product_id                         seller_id  \\\n",
       "0  4244733e06e7ecb4970a6e2683c13e61  48436dade18ac8b2bce089ec2a041202   \n",
       "1  e5f2d52b802189ee658865ca93d83a8f  dd7ddc04e1b6c2c614352b383efe2d36   \n",
       "2  c777355d18b72b67abbeef9df44fd0fd  5b51032eddd242adc84c38acab88f23d   \n",
       "3  7634da152a4610f1595efa32f14722fc  9d7a1d34a5052409006425275ba1c2b4   \n",
       "4  ac6c3623068f30de03045865e4e10089  df560393f3a51e74553ab94004ba5c87   \n",
       "\n",
       "   shipping_limit_date   price  freight_value  \n",
       "0         9/19/17 9:45   58.90          13.29  \n",
       "1  2017-03-05 11:05:00  239.90          19.93  \n",
       "2        1/18/18 14:48  199.00          17.87  \n",
       "3        8/15/18 10:10   12.99          12.79  \n",
       "4        2/13/17 13:57  199.90          18.14  "
      ]
     },
     "execution_count": 2,
     "metadata": {},
     "output_type": "execute_result"
    }
   ],
   "source": [
    "# Leitura da planilha \n",
    "DADOS = r\"C:\\Users\\rodri\\OneDrive\\Sincronização\\Documentos\\GitHub\\confidence_interval_marketplace_sales\\data\\olist_order_items_dataset.xlsx\"\n",
    "df = pd.read_excel(DADOS)\n",
    "\n",
    "# Visualizar as primeiras linhas da tabela\n",
    "df.head()"
   ]
  },
  {
   "cell_type": "code",
   "execution_count": 3,
   "id": "850ae6b4",
   "metadata": {},
   "outputs": [
    {
     "data": {
      "text/html": [
       "<div>\n",
       "<style scoped>\n",
       "    .dataframe tbody tr th:only-of-type {\n",
       "        vertical-align: middle;\n",
       "    }\n",
       "\n",
       "    .dataframe tbody tr th {\n",
       "        vertical-align: top;\n",
       "    }\n",
       "\n",
       "    .dataframe thead th {\n",
       "        text-align: right;\n",
       "    }\n",
       "</style>\n",
       "<table border=\"1\" class=\"dataframe\">\n",
       "  <thead>\n",
       "    <tr style=\"text-align: right;\">\n",
       "      <th></th>\n",
       "      <th>order_id</th>\n",
       "      <th>order_item_id</th>\n",
       "      <th>product_id</th>\n",
       "      <th>seller_id</th>\n",
       "      <th>shipping_limit_date</th>\n",
       "      <th>price</th>\n",
       "      <th>freight_value</th>\n",
       "    </tr>\n",
       "  </thead>\n",
       "  <tbody>\n",
       "    <tr>\n",
       "      <th>112645</th>\n",
       "      <td>fffc94f6ce00a00581880bf54a75a037</td>\n",
       "      <td>1</td>\n",
       "      <td>4aa6014eceb682077f9dc4bffebc05b0</td>\n",
       "      <td>b8bc237ba3788b23da09c0f1f3a3288c</td>\n",
       "      <td>2018-02-05 04:11:00</td>\n",
       "      <td>299.99</td>\n",
       "      <td>43.41</td>\n",
       "    </tr>\n",
       "    <tr>\n",
       "      <th>112646</th>\n",
       "      <td>fffcd46ef2263f404302a634eb57f7eb</td>\n",
       "      <td>1</td>\n",
       "      <td>32e07fd915822b0765e448c4dd74c828</td>\n",
       "      <td>f3c38ab652836d21de61fb8314b69182</td>\n",
       "      <td>7/20/18 4:31</td>\n",
       "      <td>350.00</td>\n",
       "      <td>36.53</td>\n",
       "    </tr>\n",
       "    <tr>\n",
       "      <th>112647</th>\n",
       "      <td>fffce4705a9662cd70adb13d4a31832d</td>\n",
       "      <td>1</td>\n",
       "      <td>72a30483855e2eafc67aee5dc2560482</td>\n",
       "      <td>c3cfdc648177fdbbbb35635a37472c53</td>\n",
       "      <td>10/30/17 17:14</td>\n",
       "      <td>99.90</td>\n",
       "      <td>16.95</td>\n",
       "    </tr>\n",
       "    <tr>\n",
       "      <th>112648</th>\n",
       "      <td>fffe18544ffabc95dfada21779c9644f</td>\n",
       "      <td>1</td>\n",
       "      <td>9c422a519119dcad7575db5af1ba540e</td>\n",
       "      <td>2b3e4a2a3ea8e01938cabda2a3e5cc79</td>\n",
       "      <td>8/21/17 0:04</td>\n",
       "      <td>55.99</td>\n",
       "      <td>8.72</td>\n",
       "    </tr>\n",
       "    <tr>\n",
       "      <th>112649</th>\n",
       "      <td>fffe41c64501cc87c801fd61db3f6244</td>\n",
       "      <td>1</td>\n",
       "      <td>350688d9dc1e75ff97be326363655e01</td>\n",
       "      <td>f7ccf836d21b2fb1de37564105216cc1</td>\n",
       "      <td>2018-12-06 17:10:00</td>\n",
       "      <td>43.00</td>\n",
       "      <td>12.79</td>\n",
       "    </tr>\n",
       "  </tbody>\n",
       "</table>\n",
       "</div>"
      ],
      "text/plain": [
       "                                order_id  order_item_id  \\\n",
       "112645  fffc94f6ce00a00581880bf54a75a037              1   \n",
       "112646  fffcd46ef2263f404302a634eb57f7eb              1   \n",
       "112647  fffce4705a9662cd70adb13d4a31832d              1   \n",
       "112648  fffe18544ffabc95dfada21779c9644f              1   \n",
       "112649  fffe41c64501cc87c801fd61db3f6244              1   \n",
       "\n",
       "                              product_id                         seller_id  \\\n",
       "112645  4aa6014eceb682077f9dc4bffebc05b0  b8bc237ba3788b23da09c0f1f3a3288c   \n",
       "112646  32e07fd915822b0765e448c4dd74c828  f3c38ab652836d21de61fb8314b69182   \n",
       "112647  72a30483855e2eafc67aee5dc2560482  c3cfdc648177fdbbbb35635a37472c53   \n",
       "112648  9c422a519119dcad7575db5af1ba540e  2b3e4a2a3ea8e01938cabda2a3e5cc79   \n",
       "112649  350688d9dc1e75ff97be326363655e01  f7ccf836d21b2fb1de37564105216cc1   \n",
       "\n",
       "        shipping_limit_date   price  freight_value  \n",
       "112645  2018-02-05 04:11:00  299.99          43.41  \n",
       "112646         7/20/18 4:31  350.00          36.53  \n",
       "112647       10/30/17 17:14   99.90          16.95  \n",
       "112648         8/21/17 0:04   55.99           8.72  \n",
       "112649  2018-12-06 17:10:00   43.00          12.79  "
      ]
     },
     "execution_count": 3,
     "metadata": {},
     "output_type": "execute_result"
    }
   ],
   "source": [
    "# Visualizar as últimas linhas da tabela\n",
    "df.tail()"
   ]
  },
  {
   "cell_type": "code",
   "execution_count": 4,
   "id": "69dc40f6",
   "metadata": {},
   "outputs": [
    {
     "name": "stdout",
     "output_type": "stream",
     "text": [
      "<class 'pandas.core.frame.DataFrame'>\n",
      "RangeIndex: 112650 entries, 0 to 112649\n",
      "Data columns (total 7 columns):\n",
      " #   Column               Non-Null Count   Dtype  \n",
      "---  ------               --------------   -----  \n",
      " 0   order_id             112650 non-null  object \n",
      " 1   order_item_id        112650 non-null  int64  \n",
      " 2   product_id           112650 non-null  object \n",
      " 3   seller_id            112650 non-null  object \n",
      " 4   shipping_limit_date  112650 non-null  object \n",
      " 5   price                112650 non-null  float64\n",
      " 6   freight_value        112650 non-null  float64\n",
      "dtypes: float64(2), int64(1), object(4)\n",
      "memory usage: 6.0+ MB\n"
     ]
    }
   ],
   "source": [
    "# Conferir os tipos de dados\n",
    "df.info()"
   ]
  },
  {
   "cell_type": "code",
   "execution_count": 5,
   "id": "94667ed6",
   "metadata": {},
   "outputs": [
    {
     "data": {
      "text/plain": [
       "'pt_BR.UTF-8'"
      ]
     },
     "execution_count": 5,
     "metadata": {},
     "output_type": "execute_result"
    }
   ],
   "source": [
    "# Definir o locale para o formato brasileiro\n",
    "locale.setlocale(locale.LC_NUMERIC, 'pt_BR.UTF-8')"
   ]
  },
  {
   "cell_type": "markdown",
   "id": "69869776",
   "metadata": {},
   "source": [
    "# Problema de Negócio\n",
    "\n",
    "Uma empresa presente nos maiores marketplaces do Brasil resolveu fazer um estudo para avaliar o valor dos produtos vendidos e o valor do frete. Para isso, coletou uma amostra de mais de 100 mil vendas com seus respectivos fretes.\n",
    "\n",
    "O estudo foi dividido em três etapas:\n",
    "\n",
    "---\n",
    "\n",
    "## 1. Estimativa Pontual e por Intervalo  \n",
    "\n",
    "### 📌 1.1. Cálculo da Estimativa Pontual  \n",
    "- **Preço médio** dos pedidos  \n",
    "- **Valor médio** do frete  \n",
    "\n",
    "### 📌 1.2. Intervalos de Confiança  \n",
    "- Calcular os **intervalos de confiança** para preço e frete considerando um **coeficiente de confiança de 95%**  \n",
    "- Definir a **probabilidade** de que esses intervalos contenham o **verdadeiro valor da média populacional**  \n",
    "\n",
    "---\n",
    "\n",
    "## 2. Margem de Erro e Tamanho da Amostra  \n",
    "\n",
    "### 🎯 2.1. Cálculo da Margem de Erro  \n",
    "- Determinar a **margem de erro** do **preço** com base na amostra  \n",
    "- Determinar a **margem de erro** do **frete** com base na amostra  \n",
    "\n",
    "### 🎯 2.2 Cálculo do Tamanho Mínimo da Amostra  \n",
    "- Determinar o **tamanho mínimo da amostra** necessário para que:  \n",
    "  - A **margem de erro** na **estimativa do preço** seja **inferior a R\\$ 0,10**  \n",
    "  - A **margem de erro** na **estimativa do frete** seja **inferior a R\\$ 0,05**  \n",
    "\n",
    "---\n",
    "\n",
    "## 3. Proporção de Pedidos com Preço Acima da Média  \n",
    "\n",
    "### 📊 3.1. Definição da Variável  \n",
    "- Criar uma nova coluna chamada **\"preço > média\"**, com os seguintes valores:  \n",
    "  - **1** se o preço do pedido for **maior** que a média calculada  \n",
    "  - **0** caso contrário  \n",
    "\n",
    "### 📊 3.2. Cálculo da Proporção  \n",
    "- Determinar as **estimativas pontuais e por intervalo** do percentual da variável **\"preço > média\"**  \n",
    "- Com base nessas estimativas, avaliar se o **preço médio** dos pedidos é **maior ou menor** do que o **preço mediano**  "
   ]
  },
  {
   "cell_type": "code",
   "execution_count": 6,
   "id": "2019234c",
   "metadata": {},
   "outputs": [],
   "source": [
    "# Definição das variáveis das amostras\n",
    "amostra_price = df[\"price\"].to_numpy()\n",
    "amostra_freight = df[\"freight_value\"].to_numpy()\n",
    "\n",
    "# Nível de confiança de 95%\n",
    "conf_95 = 0.95"
   ]
  },
  {
   "cell_type": "markdown",
   "id": "170213ab",
   "metadata": {},
   "source": [
    "## 1. Estimativa Pontual e por Intervalo"
   ]
  },
  {
   "cell_type": "markdown",
   "id": "a534374c",
   "metadata": {},
   "source": [
    "### 📌 1.1. Cálculo da Estimativa Pontual  \n",
    "- **Preço médio** dos pedidos  \n",
    "- **Valor médio** do frete  "
   ]
  },
  {
   "cell_type": "code",
   "execution_count": 7,
   "id": "f65bca3c",
   "metadata": {},
   "outputs": [
    {
     "name": "stdout",
     "output_type": "stream",
     "text": [
      "Preço Médio: R$ 120.65\n",
      "Preço Médio: R$ 19.99\n"
     ]
    }
   ],
   "source": [
    "# Definição das variáveis do preço médio dos pedidos e do valor médio do frete\n",
    "media_price = amostra_price.mean()\n",
    "media_freight = amostra_freight.mean()\n",
    "\n",
    "# Exibição dos resultados\n",
    "print(f\"Preço Médio: R$ {media_price:.2f}\")\n",
    "print(f\"Preço Médio: R$ {media_freight:.2f}\")"
   ]
  },
  {
   "cell_type": "markdown",
   "id": "a1dfc9ff",
   "metadata": {},
   "source": [
    "### 📌 1.2. Intervalos de Confiança  \n",
    "- Calcular os **intervalos de confiança** para preço e frete considerando um **coeficiente de confiança de 95%**  \n",
    "- Definir a **probabilidade** de que esses intervalos contenham o **verdadeiro valor da média populacional**  "
   ]
  },
  {
   "cell_type": "markdown",
   "id": "40bacb05",
   "metadata": {},
   "source": [
    "$$\n",
    "\\text{Limite Inferior} = \\bar{x} - t \\cdot \\frac{s}{\\sqrt{n}} \\quad ; \\quad \\text{Limite Superior} = \\bar{x} + t \\cdot \\frac{s}{\\sqrt{n}}\n",
    "$$\n",
    "\n",
    "- $\\bar{x}$: média amostral  \n",
    "- $s²$: vari}ancia amostral  \n",
    "- $n$: número de observações  \n",
    "- $tn-1$: valor da distribuição t-Student\n"
   ]
  },
  {
   "cell_type": "code",
   "execution_count": 54,
   "id": "f7a78539",
   "metadata": {},
   "outputs": [],
   "source": [
    "# Função para calcular as estatísticas iniciais\n",
    "def calcular_estatisticas(amostra, conf):\n",
    "    n = len(amostra)\n",
    "    variancia_amostral = np.var(amostra, ddof=1)\n",
    "    t_critico = abs(stats.t.ppf((1 - conf) / 2, df=n-1))\n",
    "    erro_padrao = amostra.std(ddof=1) / np.sqrt(n) # std é o desvio amostral\n",
    "    \n",
    "    # Retornar um dicionário com os resultados\n",
    "    return {\n",
    "        'amostra': n,\n",
    "        'variancia_amostral': variancia_amostral,\n",
    "        't_critico': t_critico,\n",
    "        'erro_padrao': erro_padrao\n",
    "    }\n",
    "\n",
    "# Função para calcular intervalo de confiança do preço\n",
    "def intervalo_confianca(conf, media, erro_padrao, n):\n",
    "    t_critico = abs(stats.t.ppf((1 - conf) / 2, df=n-1))\n",
    "    limite_inferior = media - t_critico * erro_padrao\n",
    "    limite_superior = media + t_critico * erro_padrao\n",
    "    return t_critico, limite_inferior, limite_superior"
   ]
  },
  {
   "cell_type": "code",
   "execution_count": 55,
   "id": "baf24a27",
   "metadata": {},
   "outputs": [
    {
     "name": "stdout",
     "output_type": "stream",
     "text": [
      "Estatísticas para Preço:\n",
      "- Tamanho da Amostra: 112.650\n",
      "- Variância Amostral: 33.721,42\n",
      "- T-1: 1.96\n",
      "- Erro Padrão: 0.55\n",
      "\n",
      "\u001b[1;34mIntervalo de Confiança do Preço Médio:\u001b[0m\n",
      "T-Crítico: 1.96\n",
      "\u001b[1;31mLimite Inferior:\u001b[0m 119.58\n",
      "\u001b[1;32mLimite Superior:\u001b[0m 121.73\n"
     ]
    }
   ],
   "source": [
    "# Estatísticas básicas para 'preço'\n",
    "estatisticas_preco = calcular_estatisticas(amostra_price, conf_95)\n",
    "\n",
    "# Exibir os resultados\n",
    "print(f\"Estatísticas para Preço:\")\n",
    "print(f\"- Tamanho da Amostra: {locale.format_string('%d', estatisticas_preco['amostra'], grouping=True)}\")\n",
    "print(f\"- Variância Amostral: {locale.format_string('%.2f', estatisticas_preco['variancia_amostral'], grouping=True)}\")\n",
    "print(f\"- T-1: {estatisticas_preco['t_critico']:.2f}\")\n",
    "print(f\"- Erro Padrão: {estatisticas_preco['erro_padrao']:.2f}\")\n",
    "\n",
    "# Intervalo de Confiança do Preço Médio\n",
    "t_critico_preco, limite_inferior_preco, limite_superior_preco = intervalo_confianca(\n",
    "    conf_95, \n",
    "    media_price, \n",
    "    estatisticas_preco['erro_padrao'], \n",
    "    estatisticas_preco['amostra']\n",
    ")\n",
    "\n",
    "# Exibir resultados do Preço Médio\n",
    "print(\"\\n\\033[1;34mIntervalo de Confiança do Preço Médio:\\033[0m\")\n",
    "print(f\"T-Crítico: {t_critico_preco:.2f}\")\n",
    "print(f\"\\033[1;31mLimite Inferior:\\033[0m {limite_inferior_preco:.2f}\")\n",
    "print(f\"\\033[1;32mLimite Superior:\\033[0m {limite_superior_preco:.2f}\")"
   ]
  },
  {
   "cell_type": "code",
   "execution_count": 56,
   "id": "70fbdbbf",
   "metadata": {},
   "outputs": [
    {
     "name": "stdout",
     "output_type": "stream",
     "text": [
      "\n",
      "Estatísticas para Frete:\n",
      "- Tamanho da Amostra: 112.650\n",
      "- Variância Amostral: 249,84\n",
      "- T-1: 1.96\n",
      "- Erro Padrão: 0.05\n",
      "\n",
      "\u001b[1;34mIntervalo de Confiança do Frete:\u001b[0m\n",
      "T-Crítico: 1.96\n",
      "\u001b[1;31mLimite Inferior:\u001b[0m 19.90\n",
      "\u001b[1;32mLimite Superior:\u001b[0m 20.08\n"
     ]
    }
   ],
   "source": [
    "# Estatísticas básicas para 'frete'\n",
    "estatisticas_frete = calcular_estatisticas(amostra_freight, conf_95)\n",
    "\n",
    "print(f\"\\nEstatísticas para Frete:\")\n",
    "print(f\"- Tamanho da Amostra: {locale.format_string('%d', estatisticas_frete['amostra'], grouping=True)}\")\n",
    "print(f\"- Variância Amostral: {locale.format_string('%.2f', estatisticas_frete['variancia_amostral'], grouping=True)}\")\n",
    "print(f\"- T-1: {estatisticas_frete['t_critico']:.2f}\")\n",
    "print(f\"- Erro Padrão: {estatisticas_frete['erro_padrao']:.2f}\")\n",
    "\n",
    "# Intervalo de Confiança do Frete\n",
    "t_critico_frete, limite_inferior_frete, limite_superior_frete = intervalo_confianca(\n",
    "    conf_95, \n",
    "    media_freight, \n",
    "    estatisticas_frete['erro_padrao'], \n",
    "    estatisticas_frete['amostra']\n",
    ")\n",
    "\n",
    "# Exibir resultados do Frete\n",
    "print(\"\\n\\033[1;34mIntervalo de Confiança do Frete:\\033[0m\")\n",
    "print(f\"T-Crítico: {t_critico_frete:.2f}\")\n",
    "print(f\"\\033[1;31mLimite Inferior:\\033[0m {limite_inferior_frete:.2f}\")\n",
    "print(f\"\\033[1;32mLimite Superior:\\033[0m {limite_superior_frete:.2f}\")"
   ]
  },
  {
   "cell_type": "markdown",
   "id": "6aba330c",
   "metadata": {},
   "source": [
    "#### Qual é a probabilidade de que esses intervalos de confiança contenham o verdadeiro valor da média populacional?\n",
    "\n",
    "#### Em 95% das amostras que calcularmos o IC, o verdadeiro valor está contido. Isso não significa que há uma chance de 95% dele estar contido no intervalo calculado."
   ]
  },
  {
   "cell_type": "markdown",
   "id": "6ed68c4b",
   "metadata": {},
   "source": [
    "## 2. Margem de Erro e Tamanho da Amostra  "
   ]
  },
  {
   "cell_type": "markdown",
   "id": "596fcd6b",
   "metadata": {},
   "source": [
    "### 🎯 2.1. Cálculo da Margem de Erro  \n",
    "- Determinar a **margem de erro** do **preço** com base na amostra  \n",
    "- Determinar a **margem de erro** do **frete** com base na amostra  "
   ]
  },
  {
   "cell_type": "markdown",
   "id": "0cb0285e",
   "metadata": {},
   "source": [
    "### Margem de erro:\n",
    "\n",
    "$$\n",
    "E = t \\cdot \\frac{s}{\\sqrt{n}}\n",
    "$$\n",
    "\n",
    "- $t$: valor da distribuição t-Student  \n",
    "- $s$: desvio padrão amostral  \n",
    "- $n$: número de observações"
   ]
  },
  {
   "cell_type": "code",
   "execution_count": 57,
   "id": "19d8a9de",
   "metadata": {},
   "outputs": [
    {
     "name": "stdout",
     "output_type": "stream",
     "text": [
      "\n",
      "Estatísticas para Preço:\n",
      "- Tamanho da Amostra: 112.650\n",
      "- Variância Amostral: 33.721,42\n",
      "- Z: 1.96\n",
      "\n",
      "\u001b[1;33mMargem de Erro:\u001b[0m \u001b[1;32m1.07\u001b[0m\n"
     ]
    }
   ],
   "source": [
    "# Estatísticas básicas para 'preço'\n",
    "estatisticas_preco = calcular_estatisticas(amostra_price, conf_95)\n",
    "\n",
    "# Exibir os resultados da variável 'preço'\n",
    "print(\"\\nEstatísticas para Preço:\")\n",
    "print(f\"- Tamanho da Amostra: {locale.format_string('%d', estatisticas_preco['amostra'], grouping=True)}\")\n",
    "print(f\"- Variância Amostral: {locale.format_string('%.2f', estatisticas_preco['variancia_amostral'], grouping=True)}\")\n",
    "print(f\"- Z: {estatisticas_preco['t_critico']:.2f}\")\n",
    "\n",
    "margem_erro_preco = estatisticas_preco['t_critico'] * estatisticas_preco['erro_padrao']\n",
    "print(\"\\n\\033[1;33mMargem de Erro:\\033[0m\", f\"\\033[1;32m{margem_erro_preco:.2f}\\033[0m\")"
   ]
  },
  {
   "cell_type": "code",
   "execution_count": 58,
   "id": "5cc6af24",
   "metadata": {},
   "outputs": [
    {
     "name": "stdout",
     "output_type": "stream",
     "text": [
      "\n",
      "Estatísticas para Frete:\n",
      "- Tamanho da Amostra: 112.650\n",
      "- Variância Amostral: 249,84\n",
      "- T-1: 1.96\n",
      "- Erro Padrão: 0.05\n",
      "\n",
      "\u001b[1;33mMargem de Erro:\u001b[0m \u001b[1;32m0.09\u001b[0m\n"
     ]
    }
   ],
   "source": [
    "# Estatísticas básicas para 'frete'\n",
    "estatisticas_frete = calcular_estatisticas(amostra_freight, conf_95)\n",
    "\n",
    "# Exibir os resultados da variável 'frete'\n",
    "print(\"\\nEstatísticas para Frete:\")\n",
    "print(f\"- Tamanho da Amostra: {locale.format_string('%d', estatisticas_frete['amostra'], grouping=True)}\")\n",
    "print(f\"- Variância Amostral: {locale.format_string('%.2f', estatisticas_frete['variancia_amostral'], grouping=True)}\")\n",
    "print(f\"- T-1: {estatisticas_frete['t_critico']:.2f}\")\n",
    "print(f\"- Erro Padrão: {estatisticas_frete['erro_padrao']:.2f}\")\n",
    "\n",
    "margem_erro_frete = estatisticas_frete['t_critico'] * estatisticas_frete['erro_padrao']\n",
    "print(\"\\n\\033[1;33mMargem de Erro:\\033[0m\", f\"\\033[1;32m{margem_erro_frete:.2f}\\033[0m\")"
   ]
  },
  {
   "cell_type": "markdown",
   "id": "e0196422",
   "metadata": {},
   "source": [
    "### 🎯 2.2 Cálculo do Tamanho Mínimo da Amostra  \n",
    "- Determinar o **tamanho mínimo da amostra** necessário para que:  \n",
    "  - A **margem de erro** na **estimativa do preço** seja **inferior a R\\$ 0,10**  \n",
    "  - A **margem de erro** na **estimativa do frete** seja **inferior a R\\$ 0,05**   "
   ]
  },
  {
   "cell_type": "markdown",
   "id": "7a92d23b",
   "metadata": {},
   "source": [
    "### Novo tamanho da amostra (com desvio padrão amostral):\n",
    "\n",
    "$$\n",
    "n = \\left( \\frac{t \\cdot s}{E} \\right)^2\n",
    "$$\n",
    "\n",
    "- $t$: valor da distribuição t-Student  \n",
    "- $s$: desvio padrão amostral  \n",
    "- $E$: margem de erro desejada\n",
    "\n"
   ]
  },
  {
   "cell_type": "code",
   "execution_count": 59,
   "id": "175451ec",
   "metadata": {},
   "outputs": [
    {
     "name": "stdout",
     "output_type": "stream",
     "text": [
      "\n",
      "Estatísticas para Preço:\n",
      "- Nível de Confiança: 95%\n",
      "- Margem de Erro: 0.10\n",
      "- Z: 1.96\n",
      "- Variância Amostral: 33.721,42\n",
      "\n",
      "Novo Tamanho da Amostra Necessário para Margem de Erro de R$ 0.10:\n",
      "- Tamanho da amostra (n): 12.954.223\n"
     ]
    }
   ],
   "source": [
    "# Estatísticas básicas para 'preço'\n",
    "estatisticas_preco = calcular_estatisticas(amostra_price, conf_95)\n",
    "\n",
    "nova_margem_erro_preco = 0.10\n",
    "\n",
    "# Exibir os resultados da variável 'preço'\n",
    "print(\"\\nEstatísticas para Preço:\")\n",
    "print(f\"- Nível de Confiança: {conf_95 * 100:.0f}%\")\n",
    "print(f\"- Margem de Erro: {nova_margem_erro_preco:.2f}\")\n",
    "print(f\"- Z: {estatisticas_preco['t_critico']:.2f}\")\n",
    "print(f\"- Variância Amostral: {locale.format_string('%.2f', estatisticas_preco['variancia_amostral'], grouping=True)}\")\n",
    "\n",
    "\n",
    "# Calcular o mínimo tamanho de amostra para que a margem de erro na estimativa do preço seja inferior a R$ 0,10\n",
    "novo_n = (estatisticas_preco['variancia_amostral'] * \n",
    "          (estatisticas_preco['t_critico'] ** 2) / \n",
    "          (nova_margem_erro_preco ** 2))\n",
    "\n",
    "\n",
    "# Exibir o novo tamanho da amostra\n",
    "print(f\"\\nNovo Tamanho da Amostra Necessário para Margem de Erro de R$ {nova_margem_erro_preco:.2f}:\")\n",
    "print(f\"- Tamanho da amostra (n): {locale.format_string('%d', round(novo_n), grouping=True)}\")"
   ]
  },
  {
   "cell_type": "code",
   "execution_count": 60,
   "id": "d8ee864f",
   "metadata": {},
   "outputs": [
    {
     "name": "stdout",
     "output_type": "stream",
     "text": [
      "\n",
      "Estatísticas para Frete:\n",
      "- Nível de Confiança: 95%\n",
      "- Margem de Erro: 0.05\n",
      "- Z: 1.96\n",
      "- Variância Amostral: 249,84\n",
      "\n",
      "Novo Tamanho da Amostra Necessário para Margem de Erro de R$ 0.05:\n",
      "- Tamanho da amostra (n): 383.912\n"
     ]
    }
   ],
   "source": [
    "# Estatísticas básicas para 'frete'\n",
    "estatisticas_frete = calcular_estatisticas(amostra_freight, conf_95)\n",
    "\n",
    "nova_margem_erro_frete = 0.05\n",
    "\n",
    "# Exibir os resultados da variável 'preço'\n",
    "print(\"\\nEstatísticas para Frete:\")\n",
    "print(f\"- Nível de Confiança: {conf_95 * 100:.0f}%\")\n",
    "print(f\"- Margem de Erro: {nova_margem_erro_frete:.2f}\")\n",
    "print(f\"- Z: {estatisticas_frete['t_critico']:.2f}\")\n",
    "print(f\"- Variância Amostral: {locale.format_string('%.2f', estatisticas_frete['variancia_amostral'], grouping=True)}\")\n",
    "\n",
    "\n",
    "# Calcular o mínimo tamanho de amostra para que a margem de erro na estimativa do frete seja inferior a R$ 0,05\n",
    "novo_n = (estatisticas_frete['variancia_amostral'] * \n",
    "          (estatisticas_frete['t_critico'] ** 2) / \n",
    "          (nova_margem_erro_frete ** 2))\n",
    "\n",
    "\n",
    "# Exibir o novo tamanho da amostra\n",
    "print(f\"\\nNovo Tamanho da Amostra Necessário para Margem de Erro de R$ {nova_margem_erro_frete:.2f}:\")\n",
    "print(f\"- Tamanho da amostra (n): {locale.format_string('%d', round(novo_n), grouping=True)}\")"
   ]
  },
  {
   "cell_type": "markdown",
   "id": "fe6b3c24",
   "metadata": {},
   "source": [
    "\n",
    "## 3. Proporção de Pedidos com Preço Acima da Média "
   ]
  },
  {
   "cell_type": "markdown",
   "id": "3c09371e",
   "metadata": {},
   "source": [
    "### 📊 3.1. Definição da Variável  \n",
    "- Criar uma nova coluna chamada **\"preço > média\"**, com os seguintes valores:  \n",
    "  - **1** se o preço do pedido for **maior** que a média calculada  \n",
    "  - **0** caso contrário\n",
    "  \n",
    "Considerando o valor da estimativa pontual para o percentual de pessoas com compras acima da média, é possível afirmar que o preço médio é maior ou menor do que o preço mediano?"
   ]
  },
  {
   "cell_type": "code",
   "execution_count": 53,
   "id": "aaa2b5a1",
   "metadata": {},
   "outputs": [
    {
     "data": {
      "text/plain": [
       "0     58.90\n",
       "1    239.90\n",
       "2    199.00\n",
       "3     12.99\n",
       "4    199.90\n",
       "Name: price, dtype: float64"
      ]
     },
     "execution_count": 53,
     "metadata": {},
     "output_type": "execute_result"
    }
   ],
   "source": [
    "df[\"price\"].head()"
   ]
  },
  {
   "cell_type": "code",
   "execution_count": 27,
   "id": "a810de4d",
   "metadata": {},
   "outputs": [
    {
     "data": {
      "text/html": [
       "<div>\n",
       "<style scoped>\n",
       "    .dataframe tbody tr th:only-of-type {\n",
       "        vertical-align: middle;\n",
       "    }\n",
       "\n",
       "    .dataframe tbody tr th {\n",
       "        vertical-align: top;\n",
       "    }\n",
       "\n",
       "    .dataframe thead th {\n",
       "        text-align: right;\n",
       "    }\n",
       "</style>\n",
       "<table border=\"1\" class=\"dataframe\">\n",
       "  <thead>\n",
       "    <tr style=\"text-align: right;\">\n",
       "      <th></th>\n",
       "      <th>price</th>\n",
       "      <th>preco_acima_media</th>\n",
       "    </tr>\n",
       "  </thead>\n",
       "  <tbody>\n",
       "    <tr>\n",
       "      <th>0</th>\n",
       "      <td>58.90</td>\n",
       "      <td>0</td>\n",
       "    </tr>\n",
       "    <tr>\n",
       "      <th>1</th>\n",
       "      <td>239.90</td>\n",
       "      <td>1</td>\n",
       "    </tr>\n",
       "    <tr>\n",
       "      <th>2</th>\n",
       "      <td>199.00</td>\n",
       "      <td>1</td>\n",
       "    </tr>\n",
       "    <tr>\n",
       "      <th>3</th>\n",
       "      <td>12.99</td>\n",
       "      <td>0</td>\n",
       "    </tr>\n",
       "    <tr>\n",
       "      <th>4</th>\n",
       "      <td>199.90</td>\n",
       "      <td>1</td>\n",
       "    </tr>\n",
       "    <tr>\n",
       "      <th>...</th>\n",
       "      <td>...</td>\n",
       "      <td>...</td>\n",
       "    </tr>\n",
       "    <tr>\n",
       "      <th>112645</th>\n",
       "      <td>299.99</td>\n",
       "      <td>1</td>\n",
       "    </tr>\n",
       "    <tr>\n",
       "      <th>112646</th>\n",
       "      <td>350.00</td>\n",
       "      <td>1</td>\n",
       "    </tr>\n",
       "    <tr>\n",
       "      <th>112647</th>\n",
       "      <td>99.90</td>\n",
       "      <td>0</td>\n",
       "    </tr>\n",
       "    <tr>\n",
       "      <th>112648</th>\n",
       "      <td>55.99</td>\n",
       "      <td>0</td>\n",
       "    </tr>\n",
       "    <tr>\n",
       "      <th>112649</th>\n",
       "      <td>43.00</td>\n",
       "      <td>0</td>\n",
       "    </tr>\n",
       "  </tbody>\n",
       "</table>\n",
       "<p>112650 rows × 2 columns</p>\n",
       "</div>"
      ],
      "text/plain": [
       "         price  preco_acima_media\n",
       "0        58.90                  0\n",
       "1       239.90                  1\n",
       "2       199.00                  1\n",
       "3        12.99                  0\n",
       "4       199.90                  1\n",
       "...        ...                ...\n",
       "112645  299.99                  1\n",
       "112646  350.00                  1\n",
       "112647   99.90                  0\n",
       "112648   55.99                  0\n",
       "112649   43.00                  0\n",
       "\n",
       "[112650 rows x 2 columns]"
      ]
     },
     "execution_count": 27,
     "metadata": {},
     "output_type": "execute_result"
    }
   ],
   "source": [
    "df[\"preco_acima_media\"] = np.where(df[\"price\"] > media_price, 1, 0)\n",
    "df[[\"price\", \"preco_acima_media\"]]"
   ]
  },
  {
   "cell_type": "markdown",
   "id": "abd209f8",
   "metadata": {},
   "source": [
    "### 📊 3.2. Cálculo da Proporção  \n",
    "- Determinar as **estimativas pontuais e por intervalo** do percentual da variável **\"preço > média\"**  \n",
    "- Com base nessas estimativas, avaliar se o **preço médio** dos pedidos é **maior ou menor** do que o **preço mediano**  "
   ]
  },
  {
   "cell_type": "code",
   "execution_count": 76,
   "id": "024ccc88",
   "metadata": {},
   "outputs": [
    {
     "name": "stdout",
     "output_type": "stream",
     "text": [
      "- Proporção > Média: 28.52%\n",
      "- Tamanho da Amostra: 112.650\n",
      "- Nível de Confiança: 95%\n",
      "- Z: 1.96\n",
      "- Erro Padrão: 0.0013\n",
      "- Margem de Erro: 0.26%\n",
      "- Variância Amostral 0.2039\n"
     ]
    }
   ],
   "source": [
    "# Definição da variável de proporção das pessoas que fizeram compras acima da média\n",
    "proporcao_media = df[\"preco_acima_media\"].mean()\n",
    "\n",
    "# Definição da variância do preço > média\n",
    "variancia_preco_acima_media = (proporcao_media * (1 - proporcao_media))\n",
    "\n",
    "# O errro padrão da proporção é √(p(1 - p) / n), sendo que (p(1 - p) é a variância da proporção\n",
    "erro_padrao_proporcao = np.sqrt(proporcao_media * (1 - proporcao_media) / amostra_proporcao)\n",
    "\n",
    "# z_critico \n",
    "z_critico = abs(norm.ppf((1 - conf_95) / 2))\n",
    "\n",
    "# Margem de Erro\n",
    "margem_erro_proporcao = erro_padrao_proporcao * z_critico\n",
    " \n",
    "print(f\"- Proporção > Média: {proporcao_media * 100:.2f}%\")\n",
    "print(f\"- Tamanho da Amostra: {locale.format_string('%d', estatisticas_preco['amostra'], grouping=True)}\")\n",
    "print(f\"- Nível de Confiança: {conf_95 * 100:.0f}%\")\n",
    "print(f\"- Z: {z_critico:.2f}\")\n",
    "print(f\"- Erro Padrão: {erro_padrao_proporcao:.4f}\")\n",
    "print(f\"- Margem de Erro: {margem_erro_proporcao * 100:.2f}%\")\n",
    "print(f\"- Variância Amostral {variancia_preco_acima_media:.4f}\")"
   ]
  },
  {
   "cell_type": "code",
   "execution_count": 52,
   "id": "bc8ac6d9",
   "metadata": {},
   "outputs": [
    {
     "name": "stdout",
     "output_type": "stream",
     "text": [
      "\n",
      "\u001b[1;34mIntervalo de Confiança da Proporção dos Preços Acima da Média:\u001b[0m\n",
      "\u001b[1;31mLimite Inferior:\u001b[0m 28.26%\n",
      "\u001b[1;32mLimite Superior:\u001b[0m 28.78%\n"
     ]
    }
   ],
   "source": [
    "# Intervalo de Confiança da Proporção do Preço Acima da Média\n",
    "t_critico_proporcao, limite_inferior_proporcao, limite_superior_proporcao = intervalo_confianca(\n",
    "    conf_95, \n",
    "    proporcao_media, \n",
    "    erro_padrao_proporcao, \n",
    "    estatisticas_preco['amostra']\n",
    ")\n",
    "\n",
    "# Exibir resultados do Preço Médio\n",
    "print(\"\\n\\033[1;34mIntervalo de Confiança da Proporção dos Preços Acima da Média:\\033[0m\")\n",
    "print(f\"\\033[1;31mLimite Inferior:\\033[0m {limite_inferior_proporcao * 100:.2f}%\")\n",
    "print(f\"\\033[1;32mLimite Superior:\\033[0m {limite_superior_proporcao * 100:.2f}%\")"
   ]
  },
  {
   "cell_type": "code",
   "execution_count": 66,
   "id": "0950dbf8",
   "metadata": {},
   "outputs": [
    {
     "name": "stdout",
     "output_type": "stream",
     "text": [
      "Média do Preço: R$ 120.65\n",
      "Média do Preço: R$ 74.99\n"
     ]
    }
   ],
   "source": [
    "# Definição da Variável da Mediana do Preço\n",
    "mediana_price = df['price'].median()\n",
    "\n",
    "\n",
    "print(f\"Média do Preço: R$ {media_price:.2f}\")\n",
    "print(f\"Média do Preço: R$ {mediana_price:.2f}\")"
   ]
  },
  {
   "cell_type": "markdown",
   "id": "b607b84c",
   "metadata": {},
   "source": [
    "Apenas 28,5% das pessoas compraram acima da média, enquanto que 50% compraram acima da mediana, mas o preço médio, ainda assim, é maior que o preço mediano.\n",
    "\n",
    "Quando a média está acima da mediana e menos de 50% dos valores estão acima da média, isso indica que valores altos (outliers) estão puxando a média para cima, indicando uma distribuição assimétrica à direita. A mediana, resistente a esses extremos, fica mais baixa."
   ]
  },
  {
   "cell_type": "code",
   "execution_count": 74,
   "id": "a2ccf7ce",
   "metadata": {},
   "outputs": [
    {
     "data": {
      "image/png": "[encoded data removed]",
      "text/plain": [
       "<Figure size 800x400 with 1 Axes>"
      ]
     },
     "metadata": {},
     "output_type": "display_data"
    }
   ],
   "source": [
    "# Cálculo da média e mediana\n",
    "media_price = df['price'].mean()\n",
    "mediana_price = df['price'].median()\n",
    "\n",
    "# Plot do histograma com kde\n",
    "plt.figure(figsize=(8, 4))\n",
    "sns.histplot(df['price'], bins=50, kde=True, color=\"skyblue\", edgecolor=\"black\")\n",
    "\n",
    "# Linha da média\n",
    "plt.axvline(media_price, color='red', linestyle='--', linewidth=2, label=f'Média: R$ {media_price:.2f}')\n",
    "\n",
    "# Linha da mediana\n",
    "plt.axvline(mediana_price, color='green', linestyle='-', linewidth=2, label=f'Mediana: R$ {mediana_price:.2f}')\n",
    "\n",
    "# Informações do gráfico\n",
    "plt.title('Distribuição dos Preços com Média e Mediana')\n",
    "plt.xlabel('Preço')\n",
    "plt.ylabel('Frequência')\n",
    "plt.legend()\n",
    "plt.grid(True)\n",
    "plt.tight_layout()\n",
    "plt.show()"
   ]
  },
  {
   "cell_type": "markdown",
   "id": "fac729cd",
   "metadata": {},
   "source": [
    "Com esse tamanho de amostra é possível obter uma margem de erro inferior a 0,2%? Caso não seja, qual o tamanho da amostra para atingir essa margem de erro desejada?"
   ]
  },
  {
   "cell_type": "code",
   "execution_count": 80,
   "id": "87563afb",
   "metadata": {},
   "outputs": [
    {
     "name": "stdout",
     "output_type": "stream",
     "text": [
      "- Margem de Erro Atual: 0.26%\n",
      "- Nível de Confiança: 95%\n",
      "- Z: 1.96\n",
      "- Variância Amostral 0.2039\n",
      "\n",
      "Novo Tamanho da Amostra Necessário para Margem de Erro de 0.20%:\n",
      "- Tamanho da amostra (n): 195.782\n"
     ]
    }
   ],
   "source": [
    "margem_erro_desejada = 0.002\n",
    "\n",
    "print(f\"- Margem de Erro Atual: {margem_erro_proporcao * 100:.2f}%\")\n",
    "print(f\"- Nível de Confiança: {conf_95 * 100:.0f}%\")\n",
    "print(f\"- Z: {z_critico:.2f}\")\n",
    "print(f\"- Variância Amostral {variancia_preco_acima_media:.4f}\")\n",
    "\n",
    "\n",
    "# Calcular o mínimo tamanho de amostra para obter uma margem de erro inferior a 0,2%\n",
    "novo_n = (variancia_preco_acima_media * \n",
    "          (z_critico ** 2) / \n",
    "          (margem_erro_desejada ** 2))\n",
    "\n",
    "\n",
    "# Exibir o novo tamanho da amostra\n",
    "print(f\"\\nNovo Tamanho da Amostra Necessário para Margem de Erro de {margem_erro_desejada * 100:.2f}%:\")\n",
    "print(f\"- Tamanho da amostra (n): {locale.format_string('%d', round(novo_n), grouping=True)}\")"
   ]
  }
 ],
 "metadata": {
  "kernelspec": {
   "display_name": "Python (venv)",
   "language": "python",
   "name": "venv"
  },
  "language_info": {
   "codemirror_mode": {
    "name": "ipython",
    "version": 3
   },
   "file_extension": ".py",
   "mimetype": "text/x-python",
   "name": "python",
   "nbconvert_exporter": "python",
   "pygments_lexer": "ipython3",
   "version": "3.13.0"
  }
 },
 "nbformat": 4,
 "nbformat_minor": 5
}
